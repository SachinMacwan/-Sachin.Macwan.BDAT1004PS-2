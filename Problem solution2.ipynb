{
 "cells": [
  {
   "cell_type": "markdown",
   "id": "d629ba60",
   "metadata": {},
   "source": [
    "### Question 1\n",
    "#### Consider the following Python module:\n",
    "#### a = 0\n",
    "#### def b():\n",
    "#### global a\n",
    "#### a = c(a)\n",
    "#### def c(a):\n",
    "#### return a + 2\n",
    "#### After importing the module into the interpreter, you execute:\n",
    "#### >>> b()\n",
    "#### >>> b()\n",
    "#### >>> b()\n",
    "#### >>> a\n",
    "#### ?\n",
    "#### What value is displayed when the last expression (a) is evaluated? Explain your answer by indicating what happens in every executed statement.\n"
   ]
  },
  {
   "cell_type": "code",
   "execution_count": 17,
   "id": "da6d5862",
   "metadata": {},
   "outputs": [
    {
     "data": {
      "text/plain": [
       "6"
      ]
     },
     "execution_count": 17,
     "metadata": {},
     "output_type": "execute_result"
    }
   ],
   "source": [
    "a = 0\n",
    "def b():\n",
    "    global a\n",
    "    a = c(a)\n",
    "def c(a):\n",
    "    return a + 2\n",
    "\n",
    "b()  \n",
    "b()\n",
    "b()\n",
    "a\n",
    "\n",
    "# when b() is called it invokes c which returns 0{which is a} + 2 = 2, \n",
    "# b() is called 3 times so  the retun value become 2+2+2=6 \n",
    "# but it is not actually returned..as no variable is being returned from b\n",
    "# need to call a or return a from b() to print the value So 6 is printed"
   ]
  },
  {
   "cell_type": "markdown",
   "id": "7e099390",
   "metadata": {},
   "source": [
    "### Question 2 \n",
    "#### Function fileLength(), given to you, takes the name of a file as input and returns the length of the file: \n",
    "#### >>> fileLength('midterm.py') 284\n",
    "#### >>> fileLength('idterm.py') \n",
    "#### Traceback (most recent call last): \n",
    "####     File \"<pyshell#34>\", line 1, in <module> \n",
    "####     fileLength('idterm.py') \n",
    "####     File \"/Users/me/midterm.py\", line 3, in fileLength \n",
    "####     infile = open(filename) \n",
    "#### FileNotFoundError: [Errno 2] No such file or directory: \n",
    "#### 'idterm.py'\n",
    "    \n",
    "#### As shown above, if the file cannot be found by the interpreter or if it cannot be read as a text file, an exception will be #### raised. Modify function fileLength() so that a friendly message is printed instead:\n",
    "    \n",
    "#### >>> fileLength('midterm.py') 358\n",
    "#### >>> fileLength('idterm.py')\n",
    "#### File idterm.py not found."
   ]
  },
  {
   "cell_type": "code",
   "execution_count": 1,
   "id": "2ed6c530",
   "metadata": {},
   "outputs": [
    {
     "name": "stdout",
     "output_type": "stream",
     "text": [
      "file hh.txt not found.\n"
     ]
    }
   ],
   "source": [
    "def fileLength(file_name):\n",
    "    try:\n",
    "        file = open(file_name)\n",
    "        contents = file.read()\n",
    "        file.close()\n",
    "        print(len(contents))\n",
    "    except FileNotFoundError :\n",
    "        print('file ' + file_name + \" not found.\")\n",
    "fileLength('hh.txt')"
   ]
  },
  {
   "cell_type": "markdown",
   "id": "a945e3ac",
   "metadata": {},
   "source": [
    "### Write a class named Marsupial that can be used as shown below: \n",
    "#### >>> m = Marsupial() \n",
    "#### >>> m.put_in_pouch('doll') \n",
    "#### >>> m.put_in_pouch('firetruck') \n",
    "#### >>> m.put_in_pouch('kitten') \n",
    "#### >>> m.pouch_contents() ['doll', 'firetruck', 'kitten']\n",
    "#### Now write a class named Kangaroo as a subclass of Marsupial that inherits all the attributes of Marsupial and also:\n",
    "#### a. extends the Marsupial __init__ constructor to take, as input, the coordinates x and y of the Kangaroo object,\n",
    "#### b. supports method jump that takes number values dx and dy as input and moves the kangaroo by dx units along the x-axis and \n",
    "#### by dy units along the y-axis, and\n",
    "#### c. overloads the __str__ operator so it behaves as shown below.\n",
    "#### >>> k = Kangaroo(0,0) \n",
    "#### >>> print(k) I am a Kangaroo located at coordinates (0,0) \n",
    "#### >>> k.put_in_pouch('doll') \n",
    "#### >>> k.put_in_pouch('firetruck') \n",
    "#### >>> k.put_in_pouch('kitten') \n",
    "#### >>> k.pouch_contents() ['doll', 'firetruck', 'kitten'] \n",
    "#### >>> k.jump(1,0) \n",
    "#### >>> k.jump(1,0) \n",
    "#### >>> k.jump(1,0) \n",
    "#### >>> print(k) I am a Kangaroo located at coordinates (3,0)\n",
    "\n"
   ]
  },
  {
   "cell_type": "code",
   "execution_count": 108,
   "id": "747a8f49",
   "metadata": {},
   "outputs": [
    {
     "name": "stdout",
     "output_type": "stream",
     "text": [
      "The Kangaroo is located at coordinates (3,0).\n"
     ]
    }
   ],
   "source": [
    "class Marsupial():\n",
    "    def __init__(self):\n",
    "        self.pouch_content = []  \n",
    "    \n",
    "    def put_in_pouch(self, thing):\n",
    "        self.pouch_content.append(thing)\n",
    "    \n",
    "    def pouch_contents(self):\n",
    "        return print(format(self.pouch_content))\n",
    "\n",
    "class Kangaroo(Marsupial):\n",
    "    def __init__(self,x,y):\n",
    "        Marsupial.__init__(self)\n",
    "        self.x=x;\n",
    "        self.y=y;\n",
    "    def jump(self,dx,dy):\n",
    "        self.x += dx\n",
    "        self.y += dy\n",
    "    def __str__(self):\n",
    "        return 'The Kangaroo is located at coordinates ({},{}).'.format(self.x,self.y);\n",
    "k = Kangaroo(0,0)\n",
    "k.jump(1,0)\n",
    "k.jump(1,0)\n",
    "k.jump(1,0)\n",
    "print(k)"
   ]
  },
  {
   "cell_type": "markdown",
   "id": "481d4588",
   "metadata": {},
   "source": [
    "### Question 4\n",
    "#### Write function collatz() that takes a positive integer x as input and prints the Collatz sequence starting at x. \n",
    "#### A Collatz sequence is obtained by repeatedly applying this rule to the previous number x in the sequence:\n",
    "#### x = { 𝑥/2 𝑖𝑓 𝑥 𝑖𝑠 𝑒𝑣𝑒𝑛3𝑥+1 𝑖𝑓 𝑥 𝑖𝑠 𝑜𝑑𝑑\n",
    "#### Your function should stop when the sequence gets to number 1. Your implementation must be recursive, without any loops.\n",
    "#### >>> collatz(1)\n",
    "#### 1\n",
    "#### >>> collatz(10)\n",
    "#### 10\n",
    "#### 5\n",
    "#### 16\n",
    "#### 8\n",
    "#### 4\n",
    "#### 2\n",
    "#### 1"
   ]
  },
  {
   "cell_type": "code",
   "execution_count": 35,
   "id": "a3fcfbae",
   "metadata": {},
   "outputs": [
    {
     "name": "stdout",
     "output_type": "stream",
     "text": [
      "10\n",
      "5\n",
      "16\n",
      "8\n",
      "4\n",
      "2\n"
     ]
    },
    {
     "data": {
      "text/plain": [
       "1"
      ]
     },
     "execution_count": 35,
     "metadata": {},
     "output_type": "execute_result"
    }
   ],
   "source": [
    "def collatz(b):\n",
    "    b = int(b)\n",
    "    if b == 1:\n",
    "        return b\n",
    "    elif b%2==0:\n",
    "        print(b)\n",
    "        return collatz(b//2)\n",
    "    else:\n",
    "        print(b)\n",
    "        return collatz(b*3+1)\n",
    "    \n",
    "collatz(10)"
   ]
  },
  {
   "cell_type": "markdown",
   "id": "5372c012",
   "metadata": {},
   "source": [
    "### Question 5 \n",
    "#### Write a recursive method binary() that takes a non-negative integer n and prints the binary representation of integer n. \n",
    "#### >>> binary(0) 0 \n",
    "#### >>> binary(1) 1 \n",
    "#### >>> binary(3) 11 \n",
    "#### >>> binary(9) 1001"
   ]
  },
  {
   "cell_type": "code",
   "execution_count": 16,
   "id": "1300d2e5",
   "metadata": {},
   "outputs": [
    {
     "name": "stdout",
     "output_type": "stream",
     "text": [
      "1001"
     ]
    }
   ],
   "source": [
    "def binary(n):\n",
    "    n=int(n)\n",
    "    if(n==0):\n",
    "        return\n",
    "    else:\n",
    "        binary(n//2)\n",
    "        print(str(n%2),end=\"\")\n",
    "        \n",
    "binary(9)"
   ]
  },
  {
   "cell_type": "markdown",
   "id": "79b93ec5",
   "metadata": {},
   "source": [
    "### Question 6\n",
    "#### Implement a class named HeadingParser that can be used to parse an HTML document, and retrieve and print all the headings \n",
    "#### in the document. You should implement your class as a subclass of HTMLParser, defined in Standard Library module html.parser. \n",
    "#### When fed a string containing HTML code, your class should print the headings, one per line and in the order in which they \n",
    "#### appear in the document. Each heading should be indented as follows: an h1 heading should have\n",
    "#### indentation 0, and h2 heading should have indentation 1, etc. Test your implementation using w3c.html.\n",
    "#### >>> infile = open('w3c.html')\n",
    "#### >>> content = infile.read()\n",
    "#### >>> infile.close()\n",
    "#### >>> hp = HeadingParser()\n",
    "#### >>> hp.feed(content)\n",
    "#### W3C Mission\n",
    "#### Principles"
   ]
  },
  {
   "cell_type": "code",
   "execution_count": 48,
   "id": "26782064",
   "metadata": {},
   "outputs": [
    {
     "name": "stdout",
     "output_type": "stream",
     "text": [
      "W3C Mission\n",
      "Principles\n"
     ]
    }
   ],
   "source": [
    "from html.parser import HTMLParser\n",
    "class HeadingParser(HTMLParser):\n",
    "     inHeading = False\n",
    "     def handle_starttag(self, tag, attrs):\n",
    "        if tag == \"h1\" or tag == \"h2\" or tag == \"h3\" or tag == \"h4\" or tag == \"h5\" or tag == \"h6\" or tag == \"h7\":             self.inHeading = True\n",
    "     def handle_data(self, data):\n",
    "         if self.inHeading:\n",
    "            print(data)\n",
    "     def handle_endtag(self, tag):\n",
    "        if tag == \"h1\" or tag == \"h2\" or tag == \"h3\" or tag == \"h4\" or tag == \"h5\" or tag == \"h6\" or tag == \"h7\":\n",
    "             self.inHeading = False\n",
    "hParser = HeadingParser()\n",
    "infile = open('w3c.html')\n",
    "html = infile.read()\n",
    "infile.close()\n",
    "hParser.feed(html)\n",
    "\n"
   ]
  },
  {
   "cell_type": "markdown",
   "id": "06a196f7",
   "metadata": {},
   "source": [
    "### Question 7 \n",
    "#### Implement recursive function webdir() that takes as input: a URL (as a string) and non-negative integers depth and indent.\n",
    "#### Your function should visit every web page reachable from the starting URL web page in depth clicks or less, and print each \n",
    "#### web page's URL. As shown below, indentation, specified by indent, should be used to indicate the depth of a UR########  L. \n",
    "\n",
    "#### >>> webdir('http://reed.cs.depaul.edu/lperkovic/csc242/test1.html', 2, 0) \n",
    "#### http://reed.cs.depaul.edu/lperkovic/csc242/test1.html \n",
    "####     http://reed.cs.depaul.edu/lperkovic/csc242/test2.html \n",
    "####         http://reed.cs.depaul.edu/lperkovic/csc242/test4.html \n",
    "####             http://reed.cs.depaul.edu/lperkovic/csc242/test3.html http://reed.cs.depaul.edu/lperkovic/csc242/test4.html"
   ]
  },
  {
   "cell_type": "code",
   "execution_count": 70,
   "id": "2f8046b6",
   "metadata": {},
   "outputs": [
    {
     "name": "stdout",
     "output_type": "stream",
     "text": [
      "https://reed.cs.depaul.edu/lperkovic/test1.html\n",
      "    http://reed.cs.depaul.edu/lperkovic/test2.html\n",
      "        http://reed.cs.depaul.edu/lperkovic/test4.html\n",
      "    https://reed.cs.depaul.edu/lperkovic/test3.html\n",
      "        https://reed.cs.depaul.edu/lperkovic/test4.html\n"
     ]
    }
   ],
   "source": [
    "from urllib.request import urlopen\n",
    "from urllib.parse import urljoin\n",
    "from html.parser import HTMLParser\n",
    "from urllib.parse import urljoin\n",
    "from html.parser import HTMLParser\n",
    "\n",
    "class Collector(HTMLParser):\n",
    "    def __init__(self, url):\n",
    "        HTMLParser.__init__(self)\n",
    "        self.url = url\n",
    "        self.links = []\n",
    "    \n",
    "    def handle_starttag(self, tag, attrs):\n",
    "        if tag == 'a':\n",
    "            for attr in attrs:\n",
    "                if attr[0] == 'href':\n",
    "                    absolute = urljoin(self.url, attr[1])\n",
    "                    if absolute[:4] == 'http': \n",
    "                        self.links.append(absolute)\n",
    "                     \n",
    "    def getLinks(self):\n",
    "        return self.links\n",
    "\n",
    "def webdir(url, depth, indent):\n",
    "        depth_value = int(depth)\n",
    "        indent_value = int(indent)\n",
    "        \n",
    "        if depth_value < 0 or indent_value < 0:      \n",
    "            raise ValueError\n",
    "            \n",
    "        resource = urlopen(url)\n",
    "        content = resource.read().decode()\n",
    "        collector = Collector(url)\n",
    "        collector.feed(content)\n",
    "        links = collector.getLinks()               \n",
    "\n",
    "        if indent_value == 0:\n",
    "            print('{}'.format(url))\n",
    "        indent_value += 4\n",
    "        depth_value = depth_value-1\n",
    "    \n",
    "        if depth_value >= 0:\n",
    "            for link in links:                         \n",
    "                print('{}{}'.format(indent_value*' ', link), end = '\\n')\n",
    "                if (depth_value) > 0: \n",
    "                    webdir(link, depth_value, indent_value)          \n",
    "                \n",
    "            \n",
    "webdir('https://reed.cs.depaul.edu/lperkovic/test1.html',2,0)"
   ]
  },
  {
   "cell_type": "markdown",
   "id": "4150bda6",
   "metadata": {},
   "source": [
    "### Question 8\n",
    "#### Write SQL queries on the below database table that return:\n",
    "#### a) All the temperature data.\n",
    "#### b) All the cities, but without repetition.\n",
    "#### c) All the records for India.\n",
    "#### d) All the Fall records.\n",
    "#### e) The city, country, and season for which the average rainfall is between 200 and 400 millimeters.\n",
    "#### f) The city and country for which the average Fall temperature is above 20 degrees, in increasing temperature order.\n",
    "#### g) The total annual rainfall for Cairo.\n",
    "#### h) The total rainfall for each season."
   ]
  },
  {
   "cell_type": "code",
   "execution_count": 1,
   "id": "01b1922d",
   "metadata": {},
   "outputs": [
    {
     "data": {
      "text/plain": [
       "<sqlite3.Cursor at 0x2008d188ea0>"
      ]
     },
     "execution_count": 1,
     "metadata": {},
     "output_type": "execute_result"
    }
   ],
   "source": [
    "import sqlite3\n",
    "con = sqlite3.connect('DBfile.db')\n",
    "cur = con.cursor()\n",
    "cur.execute(\"CREATE TABLE Table1 (City text, Country text, Season text,Temperature float,Rainfall float)\")\n",
    "cur.execute(\"INSERT INTO Table1 VALUES ('Mumbai', 'India', 'Winter',24.8,5.9)\")\n",
    "cur.execute(\"INSERT INTO Table1 VALUES ('Mumbai', 'India', 'Spring',28.4,16.2)\")\n",
    "cur.execute(\"INSERT INTO Table1 VALUES ('Mumbai', 'India', 'Summer',27.9,1549.4 )\")\n",
    "cur.execute(\"INSERT INTO Table1 VALUES ('Mumbai', 'India', 'Fall',27.6,346.0)\")\n",
    "cur.execute(\"INSERT INTO Table1 VALUES ('London', 'United Kingdom', 'Winter',4.2,207.7 )\")\n",
    "cur.execute(\"INSERT INTO Table1 VALUES ('London', 'United Kingdom', 'Spring',8.3,169.6)\")\n",
    "cur.execute(\"INSERT INTO Table1 VALUES ('London', 'United Kingdom', 'Summer',15.7,157.0)\")\n",
    "cur.execute(\"INSERT INTO Table1 VALUES ('London', 'United Kingdom', 'Fall',10.4,218.5)\")\n",
    "cur.execute(\"INSERT INTO Table1 VALUES ('Cairo', 'Egypt', 'Winter',13.6,16.5)\")\n",
    "cur.execute(\"INSERT INTO Table1 VALUES ('Cairo', 'Egypt', 'Spring',20.7,6.5)\")\n",
    "cur.execute(\"INSERT INTO Table1 VALUES ('Cairo', 'Egypt', 'Summer',27.7,0.1)\")\n",
    "cur.execute(\"INSERT INTO Table1 VALUES ('Cairo', 'Egypt', 'Fall',22.2,4.5)\")\n",
    "\n"
   ]
  },
  {
   "cell_type": "code",
   "execution_count": 2,
   "id": "a0babed1",
   "metadata": {},
   "outputs": [
    {
     "data": {
      "text/plain": [
       "[('Mumbai', 'India', 'Winter', 24.8, 5.9),\n",
       " ('Mumbai', 'India', 'Spring', 28.4, 16.2),\n",
       " ('Mumbai', 'India', 'Summer', 27.9, 1549.4),\n",
       " ('Mumbai', 'India', 'Fall', 27.6, 346.0),\n",
       " ('London', 'United Kingdom', 'Winter', 4.2, 207.7),\n",
       " ('London', 'United Kingdom', 'Spring', 8.3, 169.6),\n",
       " ('London', 'United Kingdom', 'Summer', 15.7, 157.0),\n",
       " ('London', 'United Kingdom', 'Fall', 10.4, 218.5),\n",
       " ('Cairo', 'Egypt', 'Winter', 13.6, 16.5),\n",
       " ('Cairo', 'Egypt', 'Spring', 20.7, 6.5),\n",
       " ('Cairo', 'Egypt', 'Summer', 27.7, 0.1),\n",
       " ('Cairo', 'Egypt', 'Fall', 22.2, 4.5)]"
      ]
     },
     "execution_count": 2,
     "metadata": {},
     "output_type": "execute_result"
    }
   ],
   "source": [
    "cur.execute('SELECT * FROM Table1')\n",
    "cur.fetchall()"
   ]
  },
  {
   "cell_type": "code",
   "execution_count": 11,
   "id": "793a111e",
   "metadata": {},
   "outputs": [
    {
     "data": {
      "text/plain": [
       "[(24.8,),\n",
       " (28.4,),\n",
       " (27.9,),\n",
       " (27.6,),\n",
       " (4.2,),\n",
       " (8.3,),\n",
       " (15.7,),\n",
       " (10.4,),\n",
       " (13.6,),\n",
       " (20.7,),\n",
       " (27.7,),\n",
       " (22.2,)]"
      ]
     },
     "execution_count": 11,
     "metadata": {},
     "output_type": "execute_result"
    }
   ],
   "source": [
    "cur.execute('SELECT temperature FROM Table1')\n",
    "cur.fetchall()"
   ]
  },
  {
   "cell_type": "code",
   "execution_count": 10,
   "id": "25a105a7",
   "metadata": {},
   "outputs": [
    {
     "data": {
      "text/plain": [
       "[('Mumbai',), ('London',), ('Cairo',)]"
      ]
     },
     "execution_count": 10,
     "metadata": {},
     "output_type": "execute_result"
    }
   ],
   "source": [
    "cur.execute('SELECT DISTINCT City FROM Table1')\n",
    "cur.fetchall()"
   ]
  },
  {
   "cell_type": "code",
   "execution_count": 9,
   "id": "d8500504",
   "metadata": {},
   "outputs": [
    {
     "data": {
      "text/plain": [
       "[('Mumbai', 'India', 'Winter', 24.8, 5.9),\n",
       " ('Mumbai', 'India', 'Spring', 28.4, 16.2),\n",
       " ('Mumbai', 'India', 'Summer', 27.9, 1549.4),\n",
       " ('Mumbai', 'India', 'Fall', 27.6, 346.0)]"
      ]
     },
     "execution_count": 9,
     "metadata": {},
     "output_type": "execute_result"
    }
   ],
   "source": [
    "cur.execute(\"SELECT * FROM Table1 WHERE Country='India'\")\n",
    "cur.fetchall()"
   ]
  },
  {
   "cell_type": "code",
   "execution_count": 8,
   "id": "5cbaa1a8",
   "metadata": {},
   "outputs": [
    {
     "data": {
      "text/plain": [
       "[('Mumbai', 'India', 'Fall', 27.6, 346.0),\n",
       " ('London', 'United Kingdom', 'Fall', 10.4, 218.5),\n",
       " ('Cairo', 'Egypt', 'Fall', 22.2, 4.5)]"
      ]
     },
     "execution_count": 8,
     "metadata": {},
     "output_type": "execute_result"
    }
   ],
   "source": [
    "cur.execute(\"SELECT * FROM Table1 WHERE Season='Fall'\")\n",
    "cur.fetchall()"
   ]
  },
  {
   "cell_type": "code",
   "execution_count": 7,
   "id": "95988727",
   "metadata": {},
   "outputs": [
    {
     "data": {
      "text/plain": [
       "[('Mumbai', 'India', 'Fall'),\n",
       " ('London', 'United Kingdom', 'Winter'),\n",
       " ('London', 'United Kingdom', 'Fall')]"
      ]
     },
     "execution_count": 7,
     "metadata": {},
     "output_type": "execute_result"
    }
   ],
   "source": [
    "cur.execute(\"SELECT City,country,Season FROM Table1 WHERE Rainfall BETWEEN 200 AND 400\")\n",
    "cur.fetchall()"
   ]
  },
  {
   "cell_type": "code",
   "execution_count": 5,
   "id": "5384a7ec",
   "metadata": {},
   "outputs": [
    {
     "data": {
      "text/plain": [
       "[('Cairo', 'Egypt'), ('Mumbai', 'India')]"
      ]
     },
     "execution_count": 5,
     "metadata": {},
     "output_type": "execute_result"
    }
   ],
   "source": [
    "cur.execute(\"SELECT City,country FROM Table1 WHERE Season='Fall' AND temperature > 20 ORDER BY temperature ASC\")\n",
    "cur.fetchall()"
   ]
  },
  {
   "cell_type": "code",
   "execution_count": 4,
   "id": "bc57c6dd",
   "metadata": {},
   "outputs": [
    {
     "data": {
      "text/plain": [
       "[(27.6,)]"
      ]
     },
     "execution_count": 4,
     "metadata": {},
     "output_type": "execute_result"
    }
   ],
   "source": [
    "cur.execute(\"SELECT SUM(Rainfall) FROM Table1 WHERE City='Cairo'\")\n",
    "cur.fetchall()"
   ]
  },
  {
   "cell_type": "code",
   "execution_count": 3,
   "id": "6c9b03de",
   "metadata": {},
   "outputs": [
    {
     "data": {
      "text/plain": [
       "[(569.0,), (192.29999999999998,), (1706.5,), (230.1,)]"
      ]
     },
     "execution_count": 3,
     "metadata": {},
     "output_type": "execute_result"
    }
   ],
   "source": [
    "cur.execute(\"SELECT SUM(Rainfall) FROM Table1 GROUP BY Season\")\n",
    "cur.fetchall()"
   ]
  },
  {
   "cell_type": "markdown",
   "id": "15a1f673",
   "metadata": {},
   "source": [
    "### Question 9\n",
    "#### Suppose list words is defined as follows:\n",
    "#### >>> words = ['The', 'quick', 'brown', 'fox', 'jumps', 'over', 'the', 'lazy', 'dog']\n",
    "#### Write list comprehension expressions that use list words and generate the following lists:\n"
   ]
  },
  {
   "cell_type": "code",
   "execution_count": 16,
   "id": "eda12b23",
   "metadata": {},
   "outputs": [
    {
     "name": "stdout",
     "output_type": "stream",
     "text": [
      "['The', 'quick', 'brown', 'fox', 'jumps', 'over', 'the', 'lazy', 'dog']\n",
      "Question A\n",
      "['THE', 'QUICK', 'BROWN', 'FOX', 'JUMPS', 'OVER', 'THE', 'LAZY', 'DOG']\n",
      "Question B\n",
      "['the', 'quick', 'brown', 'fox', 'jumps', 'over', 'the', 'lazy', 'dog']\n",
      "Question C\n",
      "[3, 5, 5, 3, 5, 4, 3, 4, 3]\n",
      "Question D\n",
      "[['THE', 'the', 3], ['QUICK', 'quick', 5], ['BROWN', 'brown', 5], ['FOX', 'fox', 3], ['JUMPS', 'jumps', 5], ['OVER', 'over', 4], ['THE', 'the', 3], ['LAZY', 'lazy', 4], ['DOG', 'dog', 3]]\n",
      "Question E\n",
      "['quick', 'brown', 'jumps', 'over', 'lazy']\n"
     ]
    }
   ],
   "source": [
    "words = ['The', 'quick', 'brown', 'fox', 'jumps', 'over', 'the', 'lazy', 'dog']\n",
    "print(words)\n",
    "\n",
    "print(\"Question A\")\n",
    "words = [name.upper() for name in words]\n",
    "print(words)\n",
    "\n",
    "print(\"Question B\")\n",
    "words = [name.lower() for name in words]\n",
    "print(words)\n",
    "\n",
    "print(\"Question C\")\n",
    "\n",
    "Length = [len(name) for name in words] \n",
    "print(Length)\n",
    "\n",
    "print(\"Question D\")\n",
    "words = ['The', 'quick', 'brown', 'fox', 'jumps', 'over', 'the', 'lazy', 'dog']\n",
    "words = [ [name.upper(), name.lower(), len(name)] for name in words]\n",
    "print(words)    \n",
    "\n",
    "print(\"Question E\")\n",
    "words = ['The', 'quick', 'brown', 'fox', 'jumps', 'over', 'the', 'lazy', 'dog']\n",
    "wordsE = [word for word in words if len(word)>= 4]\n",
    "print(wordsE)"
   ]
  },
  {
   "cell_type": "code",
   "execution_count": null,
   "id": "bc497f23",
   "metadata": {},
   "outputs": [],
   "source": []
  }
 ],
 "metadata": {
  "kernelspec": {
   "display_name": "Python 3 (ipykernel)",
   "language": "python",
   "name": "python3"
  },
  "language_info": {
   "codemirror_mode": {
    "name": "ipython",
    "version": 3
   },
   "file_extension": ".py",
   "mimetype": "text/x-python",
   "name": "python",
   "nbconvert_exporter": "python",
   "pygments_lexer": "ipython3",
   "version": "3.9.12"
  }
 },
 "nbformat": 4,
 "nbformat_minor": 5
}
